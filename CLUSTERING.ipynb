{
  "nbformat": 4,
  "nbformat_minor": 0,
  "metadata": {
    "kernelspec": {
      "display_name": "Python 3",
      "language": "python",
      "name": "python3"
    },
    "language_info": {
      "codemirror_mode": {
        "name": "ipython",
        "version": 3
      },
      "file_extension": ".py",
      "mimetype": "text/x-python",
      "name": "python",
      "nbconvert_exporter": "python",
      "pygments_lexer": "ipython3",
      "version": "3.6.5"
    },
    "colab": {
      "name": "CLUSTERING.ipynb",
      "provenance": [],
      "collapsed_sections": []
    }
  },
  "cells": [
    {
      "cell_type": "markdown",
      "metadata": {
        "id": "t8998JYWYZcb"
      },
      "source": [
        "## Unsupervised Learning"
      ]
    },
    {
      "cell_type": "code",
      "metadata": {
        "id": "2bweC-2hYZce"
      },
      "source": [
        "from __future__ import division\n",
        "import warnings\n",
        "warnings.simplefilter('ignore' )\n",
        "\n",
        "%matplotlib inline\n",
        "import matplotlib.pyplot as plt\n",
        "import numpy as np\n",
        "import pandas as pd\n"
      ],
      "execution_count": 3,
      "outputs": []
    },
    {
      "cell_type": "code",
      "metadata": {
        "colab": {
          "base_uri": "https://localhost:8080/"
        },
        "id": "J3UXn6a1ZGsN",
        "outputId": "6709cb0e-5cbf-4bdb-9947-56fa602781f6"
      },
      "source": [
        "#import data using drive\r\n",
        "from google.colab import drive\r\n",
        "drive.mount('/content/drive')"
      ],
      "execution_count": 4,
      "outputs": [
        {
          "output_type": "stream",
          "text": [
            "Mounted at /content/drive\n"
          ],
          "name": "stdout"
        }
      ]
    },
    {
      "cell_type": "code",
      "metadata": {
        "id": "9ttZoeLkZJGe"
      },
      "source": [
        "path = \"/content/drive/MyDrive/test/intent_classif_EN.csv\"\r\n",
        "dataset = pd.read_csv(path,sep=',')\r\n",
        "# Dataset is now stored in a Pandas Dataframedrive"
      ],
      "execution_count": 5,
      "outputs": []
    },
    {
      "cell_type": "code",
      "metadata": {
        "id": "uWm0eoToasGw"
      },
      "source": [
        "X=dataset['text']"
      ],
      "execution_count": 6,
      "outputs": []
    },
    {
      "cell_type": "code",
      "metadata": {
        "id": "1nBcvU8EfzQ4"
      },
      "source": [
        "#Text pre-processing\r\n",
        "\"\"\"removes punctuation, stopwords, and returns a list of the remaining words, or tokens\"\"\"\r\n",
        "import nltk\r\n",
        "from nltk.corpus import stopwords\r\n",
        "from nltk.stem import WordNetLemmatizer\r\n",
        "nltk.download('stopwords')\r\n",
        "nltk.download('wordnet')\r\n",
        "\r\n",
        "X_train=X"
      ],
      "execution_count": null,
      "outputs": []
    },
    {
      "cell_type": "code",
      "metadata": {
        "colab": {
          "base_uri": "https://localhost:8080/"
        },
        "id": "VXWWtSi5agkX",
        "outputId": "3319ac3e-7ec9-43ac-ac2f-233e43d4b630"
      },
      "source": [
        "#Cleaning the text\r\n",
        "\r\n",
        "import string\r\n",
        "def text_process(text):\r\n",
        "    '''\r\n",
        "    Takes in a string of text, then performs the following:\r\n",
        "    1. Remove all punctuation\r\n",
        "    2. Remove all stopwords\r\n",
        "    3. Return the cleaned text as a list of words\r\n",
        "    4. Remove words\r\n",
        "    '''\r\n",
        "    stemmer = WordNetLemmatizer()\r\n",
        "    nopunc = [char for char in text if char not in string.punctuation]\r\n",
        "    nopunc = ''.join([i for i in nopunc if not i.isdigit()])\r\n",
        "    nopunc =  [word.lower() for word in nopunc.split() if word not in stopwords.words('english')]\r\n",
        "    return [stemmer.lemmatize(word) for word in nopunc]\r\n",
        "\r\n"
      ],
      "execution_count": 7,
      "outputs": [
        {
          "output_type": "stream",
          "text": [
            "[nltk_data] Downloading package stopwords to /root/nltk_data...\n",
            "[nltk_data]   Unzipping corpora/stopwords.zip.\n",
            "[nltk_data] Downloading package wordnet to /root/nltk_data...\n",
            "[nltk_data]   Unzipping corpora/wordnet.zip.\n"
          ],
          "name": "stdout"
        }
      ]
    },
    {
      "cell_type": "code",
      "metadata": {
        "colab": {
          "base_uri": "https://localhost:8080/"
        },
        "id": "9jqXgpTVdIP5",
        "outputId": "a90e0369-c92a-4afd-ab72-8a1a32b21b63"
      },
      "source": [
        "#Vectorisation : -\r\n",
        "print(\"Vectorisation..............\")\r\n",
        "\r\n",
        "from sklearn.feature_extraction.text import TfidfVectorizer\r\n",
        "\r\n",
        "tfidfconvert = TfidfVectorizer(analyzer=text_process,ngram_range=(1,3)).fit(X_train)\r\n",
        "\r\n",
        "X_transformed=tfidfconvert.transform(X_train)\r\n"
      ],
      "execution_count": 8,
      "outputs": [
        {
          "output_type": "stream",
          "text": [
            "Vectorisation..............\n"
          ],
          "name": "stdout"
        }
      ]
    },
    {
      "cell_type": "code",
      "metadata": {
        "colab": {
          "base_uri": "https://localhost:8080/"
        },
        "id": "r_jdaty_dJvZ",
        "outputId": "de6a50e2-bbc9-4df8-9ab7-b29cc2952b3c"
      },
      "source": [
        "# Clustering the training sentences with K-means technique\r\n",
        "print(\"Training..............\")\r\n",
        "\r\n",
        "from sklearn.cluster import KMeans\r\n",
        "modelkmeans = KMeans(n_clusters=7, init='k-means++', n_init=10)\r\n",
        "modelkmeans.fit(X_transformed)"
      ],
      "execution_count": 11,
      "outputs": [
        {
          "output_type": "stream",
          "text": [
            "Training..............\n"
          ],
          "name": "stdout"
        },
        {
          "output_type": "execute_result",
          "data": {
            "text/plain": [
              "KMeans(algorithm='auto', copy_x=True, init='k-means++', max_iter=300,\n",
              "       n_clusters=7, n_init=10, n_jobs=None, precompute_distances='auto',\n",
              "       random_state=None, tol=0.0001, verbose=0)"
            ]
          },
          "metadata": {
            "tags": []
          },
          "execution_count": 11
        }
      ]
    },
    {
      "cell_type": "code",
      "metadata": {
        "id": "0yJP93Nfeg_N"
      },
      "source": [
        "def Elbow_val(X_transformed):\r\n",
        "\r\n",
        "  Sum_of_squared_distances = []\r\n",
        "  K = range(1,7)\r\n",
        "  for k in K:\r\n",
        "      km = KMeans(n_clusters=k)\r\n",
        "      km = km.fit(X_transformed)\r\n",
        "      Sum_of_squared_distances.append(km.inertia_)\r\n",
        "  import matplotlib.pyplot as plt\r\n",
        "\r\n",
        "  plt.plot(K, Sum_of_squared_distances, 'bx-')\r\n",
        "  plt.xlabel('k')\r\n",
        "  plt.ylabel('Sum_of_squared_distances')\r\n",
        "  plt.title('Elbow Method For Optimal k')\r\n",
        "  plt.show()\r\n"
      ],
      "execution_count": 19,
      "outputs": []
    },
    {
      "cell_type": "code",
      "metadata": {
        "colab": {
          "base_uri": "https://localhost:8080/",
          "height": 295
        },
        "id": "T_hQEifjfZwV",
        "outputId": "9c36cec2-834b-4eb5-a629-535341e347d7"
      },
      "source": [
        "Sum_of_squared_distances=Elbow_val(X_transformed)"
      ],
      "execution_count": 20,
      "outputs": [
        {
          "output_type": "display_data",
          "data": {
            "image/png": "[encoded data removed]",
            "text/plain": [
              "<Figure size 432x288 with 1 Axes>"
            ]
          },
          "metadata": {
            "tags": [],
            "needs_background": "light"
          }
        }
      ]
    },
    {
      "cell_type": "code",
      "metadata": {
        "id": "27RdnJCeYZdH"
      },
      "source": [
        ""
      ],
      "execution_count": null,
      "outputs": []
    }
  ]
}